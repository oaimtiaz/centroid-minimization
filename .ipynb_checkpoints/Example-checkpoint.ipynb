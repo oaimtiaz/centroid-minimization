{
 "cells": [
  {
   "cell_type": "code",
   "execution_count": 20,
   "metadata": {},
   "outputs": [],
   "source": [
    "import pandas as pd\n",
    "import numpy as np\n",
    "import random\n",
    "import itertools\n",
    "import matplotlib.pyplot as plt\n",
    "import time\n",
    "import geostatspy.GSLIB as GSLIB\n",
    "import geostatspy.geostats as geostats\n",
    "from scipy import stats\n",
    "import centroid_minimize as cm\n",
    "from statsmodels.stats.weightstats import DescrStatsW\n",
    "from statsmodels.stats.descriptivestats import describe\n",
    "import statsmodels.stats.weightstats\n",
    "from numpy import std, sqrt, mean\n",
    "from dataclasses import dataclass, astuple\n",
    "from os import listdir\n",
    "from os.path import isdir\n",
    "from os import mkdir, getcwd\n",
    "import shutil\n",
    "from tqdm.notebook import tqdm"
   ]
  },
  {
   "cell_type": "code",
   "execution_count": 2,
   "metadata": {},
   "outputs": [],
   "source": [
    "random.seed(0)"
   ]
  },
  {
   "cell_type": "code",
   "execution_count": 3,
   "metadata": {},
   "outputs": [],
   "source": [
    "def extract_pad_sample(array,xmin,xmax,ymin,ymax,step,ox,oy,xspace,yspace,nxwell,nywell,name):\n",
    "    x = []; y = []; v = []; iix = 0; iiy = 0;\n",
    "    ixspace = int(xspace / step)\n",
    "    iyspace = int(yspace / step)\n",
    "    iiy = 0\n",
    "    for iy in range(0,iyspace*nywell+1):\n",
    "        if iiy >= iyspace:\n",
    "            iix = 0\n",
    "            for ix in range(0,ixspace*nxwell+1):\n",
    "                if iix >= ixspace:\n",
    "                    cx = ox + ix; cy = oy + iy \n",
    "                    x.append(step*(float(cx)-0.5)); y.append(step*(float(cy)-0.5)); v.append(array[ny-cy+1,cx])\n",
    "                    iix = 0; iiy = 0\n",
    "                iix = iix + 1\n",
    "        iiy = iiy + 1\n",
    "    df = pd.DataFrame(np.c_[x,y,v],columns=['X', 'Y', name])\n",
    "    return(df)"
   ]
  },
  {
   "cell_type": "code",
   "execution_count": 4,
   "metadata": {},
   "outputs": [],
   "source": [
    "por = np.load('data/por.npy')"
   ]
  },
  {
   "cell_type": "code",
   "execution_count": 5,
   "metadata": {},
   "outputs": [],
   "source": [
    "x = np.arange(200)\n",
    "y = np.arange(200)\n",
    "coords = np.array(list(itertools.product(x, y)))\n",
    "coords = np.hstack([coords, por.flatten().reshape(-1,1)])\n",
    "data = pd.DataFrame(data=coords, columns=['x','y','z'])"
   ]
  },
  {
   "cell_type": "code",
   "execution_count": 6,
   "metadata": {},
   "outputs": [],
   "source": [
    "x_min = data['x'].min()\n",
    "x_max = data['x'].max()\n",
    "y_min = data['y'].min()\n",
    "y_max = data['y'].max()"
   ]
  },
  {
   "cell_type": "code",
   "execution_count": 7,
   "metadata": {},
   "outputs": [],
   "source": [
    "def get_samples(df, x, ymin, ymax, num_samples):\n",
    "    x_step = np.unique(df['x'].values)[1] - np.unique(df['x'].values)[0]\n",
    "    tmp = df.loc[(df['x'] < x+x_step/2) & (df['x'] > x-x_step/2)]\n",
    "    out = pd.DataFrame(columns=tmp.columns)\n",
    "    y_step = df['y'][1] - df['y'][0]\n",
    "    \n",
    "    well_step = (ymax - ymin) / num_samples\n",
    "    for i in range(num_samples):\n",
    "        well_pos = well_step * i + ymin\n",
    "        out = out.append(tmp.loc[(tmp['y'] < well_pos+y_step/2) & (tmp['y'] > well_pos-y_step/2)])\n",
    "    return out"
   ]
  },
  {
   "cell_type": "code",
   "execution_count": 8,
   "metadata": {},
   "outputs": [],
   "source": [
    "def get_pad(df, num_ywells, num_xwells, xmin, xmax, ymin, ymax):\n",
    "    sampled = pd.DataFrame(columns=data.columns)\n",
    "    for i in range(num_xwells):\n",
    "        x = i * ((xmax-xmin)/num_xwells) + xmin\n",
    "        sampled = sampled.append(get_samples(data, x, ymin, ymax, num_ywells))\n",
    "    return sampled"
   ]
  },
  {
   "cell_type": "code",
   "execution_count": 9,
   "metadata": {},
   "outputs": [],
   "source": [
    "def get_random_pad():\n",
    "    num_ywells = random.randint(2, 5)\n",
    "    num_xwells = random.randint(2, 5)\n",
    "    x_1 = random.randint(x_min, x_max)\n",
    "    x_2 = random.randint(x_min, x_max)\n",
    "    while abs(x_2 - x_1) < num_xwells or abs(x_2-x_1) > (x_max-x_min)/4:\n",
    "        x_2 = random.randint(x_min, x_max)\n",
    "    y_1 = random.randint(y_min, y_max)\n",
    "    y_2 = random.randint(y_min, y_max)\n",
    "    while abs(y_2 - y_1) < num_ywells or abs(y_2-y_1) > (y_max-y_min)/4:\n",
    "        y_2 = random.randint(y_min, y_max)\n",
    "    \n",
    "    return get_pad(data, num_ywells, num_xwells, min(x_1, x_2), max(x_1, x_2), \n",
    "                   min(y_1, y_2), max(y_1, y_2))"
   ]
  },
  {
   "cell_type": "code",
   "execution_count": 10,
   "metadata": {},
   "outputs": [],
   "source": [
    "def get_pads(num_pads):\n",
    "    output = pd.DataFrame(columns=data.columns)\n",
    "    for _ in range(num_pads):\n",
    "        output = output.append(get_random_pad())\n",
    "    return output"
   ]
  },
  {
   "cell_type": "code",
   "execution_count": 11,
   "metadata": {},
   "outputs": [],
   "source": [
    "def get_random_samples(num_samples):\n",
    "    return data.sample(n=num_samples)"
   ]
  },
  {
   "cell_type": "code",
   "execution_count": 12,
   "metadata": {},
   "outputs": [],
   "source": [
    "def bartlett_test(v1, v2):\n",
    "    p_value = stats.bartlett(v1, v2)\n",
    "    return p_value.pvalue\n",
    "def t_test(v1, v2):\n",
    "    return stats.ttest_ind(v1,v2).pvalue"
   ]
  },
  {
   "cell_type": "code",
   "execution_count": 13,
   "metadata": {},
   "outputs": [],
   "source": [
    "def plot_data(dat):\n",
    "    plt.scatter(dat['x'], dat['y'])\n",
    "    plt.xlim([x_min, x_max])\n",
    "    plt.ylim([y_min, y_max])"
   ]
  },
  {
   "cell_type": "code",
   "execution_count": 15,
   "metadata": {},
   "outputs": [],
   "source": [
    "def find_ave(dirname):\n",
    "    ave = 0\n",
    "    num = 0\n",
    "    for f in listdir(dirname):\n",
    "        if f.startswith('cm'):\n",
    "            tmp = pd.read_csv('{}/{}'.format(dirname, f))\n",
    "            ave+=len(tmp)\n",
    "            num+=1\n",
    "    return ave / num"
   ]
  },
  {
   "cell_type": "code",
   "execution_count": 16,
   "metadata": {},
   "outputs": [],
   "source": [
    "@dataclass\n",
    "class StatsRepr:\n",
    "    name: str\n",
    "    t_prob: float\n",
    "    bartlett_prob: float\n",
    "    \n",
    "    def tolist(self):\n",
    "        return list(astuple(self))[1:]\n",
    "\n",
    "    def get_headers(self):\n",
    "        output = ['_t_prob', '_bartlett_prob']\n",
    "        return [self.name + output[i] for i in range(len(output))]"
   ]
  },
  {
   "cell_type": "code",
   "execution_count": 18,
   "metadata": {},
   "outputs": [],
   "source": [
    "def get_stats(data, sampled):\n",
    "    if data is None:\n",
    "        biased_tmp = StatsRepr('biased', 0, 0)\n",
    "        cm_tmp = StatsRepr('cm', 0, 0)\n",
    "        declus_tmp = StatsRepr('declus', 0, 0)\n",
    "        return biased_tmp.get_headers() + cm_tmp.get_headers() + declus_tmp.get_headers()\n",
    "        \n",
    "    cm_points = cm.centroid_minimize(sampled[['x','y']].values, width=x_max-x_min,\n",
    "                                     height=y_max-y_min)\n",
    "    cm_df = pd.DataFrame(columns=data.columns)\n",
    "    for point in cm_points:\n",
    "        cm_df = cm_df.append(data.loc[(data['x'] == point[0]) & (data['y']==point[1])])\n",
    "        \n",
    "    \n",
    "    # try:\n",
    "    wts, cell_sizes, dmeans = geostats.declus(sampled, 'x','y','z', iminmax=1, noff=10, ncell=100, cmin=1, cmax=200)\n",
    "    sampled['wts'] = wts\n",
    "    weighted = sampled['z']*sampled['wts']\n",
    "\n",
    "    biased_t_prob = t_test(sampled['z'], data['z'])\n",
    "    biased_b_prob = bartlett_test(sampled['z'], data['z'])\n",
    "    biased_stats = StatsRepr('biased', biased_t_prob, biased_b_prob)\n",
    "\n",
    "    cm_t_prob  = t_test(cm_df['z'], data['z'])\n",
    "    cm_b_prob = bartlett_test(cm_df['z'], data['z'])\n",
    "    cm_stats = StatsRepr('cm', cm_t_prob, cm_b_prob)\n",
    "\n",
    "    declus_t_prob = t_test(weighted, data['z'])\n",
    "    declus_b_prob = bartlett_test(weighted, data['z'])\n",
    "    declus_stats = StatsRepr('declus', declus_t_prob, declus_b_prob)\n",
    "\n",
    "    return biased_stats.tolist() +  cm_stats.tolist() + declus_stats.tolist(), cm_df"
   ]
  },
  {
   "cell_type": "code",
   "execution_count": 19,
   "metadata": {},
   "outputs": [],
   "source": [
    "def do_analysis(num_tests, test_name, num_samples=None, num_pads = None):\n",
    "    \n",
    "    statistics = pd.DataFrame(columns = ['test_num']+get_stats(None, None))\n",
    "    statistics.set_index('test_num')\n",
    "    if not isdir('results'):\n",
    "        mkdir('results')\n",
    "    if isdir('results/'+test_name):\n",
    "        shutil.rmtree(getcwd() + '/results/'+test_name)\n",
    "    mkdir('results/'+test_name)\n",
    "    for test_num in tqdm(range(num_tests)):\n",
    "        worked = False\n",
    "        while not worked:\n",
    "            #try:\n",
    "            if num_samples is None:\n",
    "                sampled = get_pads(random.randint(num_pads[0], num_pads[1]))\n",
    "            elif num_pads is None:\n",
    "                sampled = get_random_samples(num_samples) # g\n",
    "            stats, cm_df = get_stats(data, sampled)\n",
    "            # print(cm_df)\n",
    "            # if s != False:\n",
    "            #    s = [test_num] + s\n",
    "            if stats != False:\n",
    "                stats = [test_num] + stats\n",
    "\n",
    "            tmp = pd.DataFrame(data=np.array(stats).reshape(1,-1),columns=statistics.columns)\n",
    "            tmp.set_index('test_num')\n",
    "            statistics = statistics.append(tmp, ignore_index=True)\n",
    "            sampled.to_csv('results/'+test_name+'/sample_'+str(test_num)+'.csv')\n",
    "            cm_df.to_csv('results/'+test_name+'/cm_'+str(test_num)+'.csv')\n",
    "            worked = True\n",
    "            #except Exception as e:\n",
    "             #   print(e)\n",
    "    statistics.to_csv('results/'+test_name+'/stats'+'.csv')\n",
    "    return statistics"
   ]
  },
  {
   "cell_type": "code",
   "execution_count": 21,
   "metadata": {},
   "outputs": [],
   "source": [
    "num_repetitions = 1_000"
   ]
  },
  {
   "cell_type": "code",
   "execution_count": null,
   "metadata": {},
   "outputs": [],
   "source": []
  }
 ],
 "metadata": {
  "kernelspec": {
   "display_name": "Python 3",
   "language": "python",
   "name": "python3"
  },
  "language_info": {
   "codemirror_mode": {
    "name": "ipython",
    "version": 3
   },
   "file_extension": ".py",
   "mimetype": "text/x-python",
   "name": "python",
   "nbconvert_exporter": "python",
   "pygments_lexer": "ipython3",
   "version": "3.7.3"
  }
 },
 "nbformat": 4,
 "nbformat_minor": 4
}
